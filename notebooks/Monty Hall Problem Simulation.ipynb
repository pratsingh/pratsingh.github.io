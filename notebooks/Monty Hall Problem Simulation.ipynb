{
 "cells": [
  {
   "cell_type": "markdown",
   "metadata": {},
   "source": [
    "\n",
    "## [The Monty Hall Problem](https://en.wikipedia.org/wiki/Monty_Hall_problem)\n",
    "\n",
    "Briefly summarized, this problem stems from the game show *Let's Make a Deal*, the basic premise is as follows:<br> \n",
    "\n",
    "Suppose you're on a game show, and you're given the choice of three doors: Behind one door is a car; behind the others, goats. You pick a door, say No. 1, and the host, who knows what's behind the doors, opens another door, say No. 3, which has a goat. He then says to you, \"Do you want to pick door No. 2?\" Is it to your advantage to switch your choice?\n",
    "\n",
    "To model this problem and see the answer we will do the following: <br>\n",
    "\n",
    "Write a function that simulates the Monty Hall Problem. Play $N=10000$ games and print the fraction of wins if the player keeps their initial selection vs. if they choose to switch. In addition, we will also model this in a way that allows us to have more than 3 doors.\n",
    "\n"
   ]
  },
  {
   "cell_type": "markdown",
   "metadata": {},
   "source": [
    "<br>\n",
    "# Solutions"
   ]
  },
  {
   "cell_type": "markdown",
   "metadata": {},
   "source": [
    "### Some useful definitions and functions"
   ]
  },
  {
   "cell_type": "code",
   "execution_count": 1,
   "metadata": {},
   "outputs": [],
   "source": [
    "import numpy as np\n",
    "import numpy.random as rnd\n",
    "import random"
   ]
  },
  {
   "cell_type": "markdown",
   "metadata": {},
   "source": [
    "## Problem 1"
   ]
  },
  {
   "cell_type": "code",
   "execution_count": 2,
   "metadata": {},
   "outputs": [],
   "source": [
    "def monty_play(should_switch, doors):\n",
    "    #\n",
    "    # Plays a round of the Monty Hall problem with three doors.\n",
    "    #\n",
    "    # Randomly choose a door with the car, and the player's initial pick.\n",
    "    # Then eliminate one door, following the rules of the Monty Hall problem.\n",
    "    # Switch the player's pick to the other door if should_switch = True\n",
    "    #\n",
    "    # The function must return True if the player's final pick is the\n",
    "    # door with the car, and False otherwise.\n",
    "    ################################################\n",
    "    \n",
    "    # I will number the doors starting from 0 to doors-1, i.e. first door = 0.\n",
    "    # Therefore if needed, the door \"name\" would just be doors+1\n",
    "    \n",
    "    # Random door as win\n",
    "    winning_door = random.randint(0, doors-1)\n",
    "    \n",
    "    # Random door as choice\n",
    "    choice_door = random.randint(0, doors-1)\n",
    "    \n",
    "    # We need to open all but 2 doors. So we need to remove some number of doors. We can use a list for this.\n",
    "    total_closed = list(range(doors))\n",
    "    \n",
    "    #While loop to remove doors\n",
    "    while len(total_closed) > 2:\n",
    "        remove_door = random.choice(total_closed)\n",
    "        #but can't remove the choice or winning door so\n",
    "        if remove_door == winning_door or remove_door == choice_door:\n",
    "            continue\n",
    "        total_closed.remove(remove_door)\n",
    "        \n",
    "    #Now we can simulate what happens if you switch\n",
    "    if should_switch:\n",
    "        #can't pick the same door again so we need to remove that\n",
    "        two_doors = list(total_closed)\n",
    "        two_doors.remove(choice_door)\n",
    "        #only available choice\n",
    "        choice_door = two_doors[0]\n",
    "        \n",
    "    #WINS\n",
    "    if choice_door == winning_door:\n",
    "        won = 1\n",
    "        return won\n",
    "    else:\n",
    "        won = 0\n",
    "        return won\n",
    "   "
   ]
  },
  {
   "cell_type": "code",
   "execution_count": 3,
   "metadata": {},
   "outputs": [
    {
     "name": "stdout",
     "output_type": "stream",
     "text": [
      "Fraction of wins without switching: 0.3273\n",
      "Fraction of wins with switching:    0.6622\n"
     ]
    }
   ],
   "source": [
    "# Lets run with 10000 trials and 3 doors\n",
    "Ngames = 10000\n",
    "\n",
    "noSwitchWinsFraction = sum(monty_play(should_switch=False, doors=3) for _ in range(Ngames)) / Ngames\n",
    "switchWinsFraction   = sum(monty_play(should_switch=True, doors=3)  for _ in range(Ngames)) / Ngames\n",
    "\n",
    "print(f\"Fraction of wins without switching: {noSwitchWinsFraction}\")\n",
    "print(f\"Fraction of wins with switching:    {switchWinsFraction}\")"
   ]
  },
  {
   "cell_type": "markdown",
   "metadata": {},
   "source": [
    "This is actually the correct result, it shows us that it is favorable to switch, we have about a 2/3 chance of winning when we switch. We can see this more clearly as our number of doors increase."
   ]
  },
  {
   "cell_type": "code",
   "execution_count": 4,
   "metadata": {},
   "outputs": [
    {
     "name": "stdout",
     "output_type": "stream",
     "text": [
      "Fraction of wins without switching: 0.01994\n",
      "Fraction of wins with switching:    0.9801\n"
     ]
    }
   ],
   "source": [
    "# We can try it with 100,000 trials and 50 doors.\n",
    "Ngames = 100000\n",
    "\n",
    "noSwitchWinsFraction = sum(monty_play(should_switch=False, doors=50) for _ in range(Ngames)) / Ngames\n",
    "switchWinsFraction   = sum(monty_play(should_switch=True, doors=50)  for _ in range(Ngames)) / Ngames\n",
    "\n",
    "print(f\"Fraction of wins without switching: {noSwitchWinsFraction}\")\n",
    "print(f\"Fraction of wins with switching:    {switchWinsFraction}\")"
   ]
  },
  {
   "cell_type": "code",
   "execution_count": 5,
   "metadata": {},
   "outputs": [
    {
     "name": "stdout",
     "output_type": "stream",
     "text": [
      "Fraction of wins without switching: 0.33358\n",
      "Fraction of wins with switching:    0.66607\n"
     ]
    }
   ],
   "source": [
    "#Here is 100,000 trials with 3 doors, gives us expected 33% and 66%\n",
    "Ngames = 100000\n",
    "\n",
    "noSwitchWinsFraction = sum(monty_play(should_switch=False, doors=3) for _ in range(Ngames)) / Ngames\n",
    "switchWinsFraction   = sum(monty_play(should_switch=True, doors=3)  for _ in range(Ngames)) / Ngames\n",
    "\n",
    "print(f\"Fraction of wins without switching: {noSwitchWinsFraction}\")\n",
    "print(f\"Fraction of wins with switching:    {switchWinsFraction}\")\n"
   ]
  },
  {
   "cell_type": "code",
   "execution_count": 6,
   "metadata": {},
   "outputs": [
    {
     "name": "stdout",
     "output_type": "stream",
     "text": [
      "Fraction of wins without switching: 0.0\n",
      "Fraction of wins with switching:    1.0\n"
     ]
    }
   ],
   "source": [
    "#just for fun lets try 1000 doors\n",
    "\n",
    "Ngames = 100\n",
    "\n",
    "noSwitchWinsFraction = sum(monty_play(should_switch=False, doors=1000) for _ in range(Ngames)) / Ngames\n",
    "switchWinsFraction   = sum(monty_play(should_switch=True, doors=1000)  for _ in range(Ngames)) / Ngames\n",
    "\n",
    "print(f\"Fraction of wins without switching: {noSwitchWinsFraction}\")\n",
    "print(f\"Fraction of wins with switching:    {switchWinsFraction}\")"
   ]
  },
  {
   "cell_type": "markdown",
   "metadata": {},
   "source": [
    "At 1000 doors, and 100 games played, it is almost certain that switching results in a better chance at winning the prize."
   ]
  },
  {
   "cell_type": "code",
   "execution_count": null,
   "metadata": {},
   "outputs": [],
   "source": []
  }
 ],
 "metadata": {
  "kernelspec": {
   "display_name": "Python 3",
   "language": "python",
   "name": "python3"
  },
  "language_info": {
   "codemirror_mode": {
    "name": "ipython",
    "version": 3
   },
   "file_extension": ".py",
   "mimetype": "text/x-python",
   "name": "python",
   "nbconvert_exporter": "python",
   "pygments_lexer": "ipython3",
   "version": "3.6.8"
  }
 },
 "nbformat": 4,
 "nbformat_minor": 2
}
